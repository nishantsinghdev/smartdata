{
 "cells": [
  {
   "cell_type": "code",
   "execution_count": 5,
   "metadata": {},
   "outputs": [
    {
     "name": "stdout",
     "output_type": "stream",
     "text": [
      "enter the data path C:\\Users\\Usha\\Downloads\\Ecommerce Purchases.csv\n"
     ]
    },
    {
     "data": {
      "image/png": "[encoded data removed]",
      "text/plain": [
       "<matplotlib.figure.Figure at 0x5be8cae860>"
      ]
     },
     "metadata": {},
     "output_type": "display_data"
    },
    {
     "data": {
      "image/png": "[encoded data removed]",
      "text/plain": [
       "<matplotlib.figure.Figure at 0x5be8d3b748>"
      ]
     },
     "metadata": {},
     "output_type": "display_data"
    },
    {
     "data": {
      "image/png": "[encoded data removed]",
      "text/plain": [
       "<matplotlib.figure.Figure at 0x5be8d96b00>"
      ]
     },
     "metadata": {},
     "output_type": "display_data"
    }
   ],
   "source": [
    "import pandas as pd\n",
    "import numpy as np\n",
    "import matplotlib.pyplot as plt\n",
    "import platform\n",
    "import os\n",
    "import seaborn as sns\n",
    "%matplotlib inline\n",
    "\n",
    "\n",
    "data = input('enter the data path ')#'C:\\Users\\Usha\\Downloads\\Ecommerce Purchases.csv'\n",
    "def box(data):\n",
    "    sep = ','\n",
    "    header = 'None'\n",
    "    df = pd.read_csv(data,header,sep)\n",
    "    datatype= df.dtypes\n",
    "     #get only the numeric values of dataframe\n",
    "    pp=df._get_numeric_data()\n",
    "\n",
    "    #convert the pp to 2d array\n",
    "    df1=pp.values\n",
    "    #print(df1)\n",
    "    \n",
    "    #get columns list\n",
    "    first_col = list(pp)\n",
    "    #print(first_col)\n",
    "    set_col = first_col[1]\n",
    "\n",
    "    int_x = 10\n",
    "    int_y = 10\n",
    "\n",
    "    #get the path of Downloads\n",
    "    #path_name = os.path.expanduser('~\\Downloads')\n",
    "\n",
    "    a = 1\n",
    "    for num in first_col:\n",
    "        fig = plt.figure()\n",
    "        sns.set_style(\"whitegrid\")\n",
    "        sns.boxplot(x=pp[num])\n",
    "        \n",
    "       \n",
    "        plt.legend()\n",
    "        plt.show()\n",
    "        a = a+1\n",
    "        #fig.savefig(path_name+'\\\\'+num+'.png')\n",
    "        fig.savefig(num+'.png')\n",
    "box(data)\n"
   ]
  },
  {
   "cell_type": "code",
   "execution_count": null,
   "metadata": {
    "collapsed": true
   },
   "outputs": [],
   "source": []
  }
 ],
 "metadata": {
  "kernelspec": {
   "display_name": "Python 3",
   "language": "python",
   "name": "python3"
  },
  "language_info": {
   "codemirror_mode": {
    "name": "ipython",
    "version": 3
   },
   "file_extension": ".py",
   "mimetype": "text/x-python",
   "name": "python",
   "nbconvert_exporter": "python",
   "pygments_lexer": "ipython3",
   "version": "3.6.3"
  }
 },
 "nbformat": 4,
 "nbformat_minor": 2
}

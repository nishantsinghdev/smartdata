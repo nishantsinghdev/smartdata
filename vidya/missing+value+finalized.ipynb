{
 "cells": [
  {
   "cell_type": "code",
   "execution_count": 1,
   "metadata": {
    "collapsed": false
   },
   "outputs": [
    {
     "name": "stdout",
     "output_type": "stream",
     "text": [
      "enter the data path C:\\Users\\yobin\\Desktop\\Ecommerce Purchases.csv\n",
      "name              percentage\n",
      "AM or PM           0.04\n",
      "CC Exp Date        0.13\n",
      "CC Provider        0.1\n",
      "Job                0.05\n",
      "Language           0.07\n",
      "Purchase Price     0.05\n",
      "'' was not found in history, as a file, url, nor in the user namespace.\n"
     ]
    }
   ],
   "source": [
    "import pandas as pd\n",
    "import numpy as np\n",
    "import matplotlib.pyplot as plt\n",
    "import collections\n",
    "import math\n",
    "\n",
    "\n",
    "data = input('enter the data path ')#'C:\\Users\\vidya bs\\Desktop\\Ecommerce Purchases.csv'\n",
    "def miss(data):\n",
    "    sep = ','                           # C:\\Users\\yobin\\Desktop\\c.csv\n",
    "    header = None\n",
    "    df = pd.read_csv(data,header,sep)\n",
    "    first_col=list(df)\n",
    "    datatype= df.dtypes\n",
    "    np_2d = np.array(df)\n",
    "\n",
    "    # to find length of row\n",
    "\n",
    "    f=df.shape[0]\n",
    "    #to find percentage\n",
    "    ff = 100/f\n",
    "\n",
    "\n",
    "    #get position of empty cells in file\n",
    "    position = np.nonzero(pd.isnull(np_2d))\n",
    "    \n",
    "    \n",
    "    # check if the excel file is having empty  cell by position[0]\n",
    "    if position[0][0] :\n",
    "        #position 1 indiscates in column finding unique val\n",
    "        pos1=position[1]\n",
    "        a=np.unique(pos1)\n",
    "        #print(a)\n",
    "        emt_ary=[]\n",
    "\n",
    "        #get the names of columns dat have missinng values\n",
    "        for ele in a:\n",
    "            emt_ary.append(first_col[ele])\n",
    "        l=max([len(path) for path in emt_ary])\n",
    "\n",
    "        #y contains value with repetition\n",
    "        y=collections.Counter(pos1)\n",
    "\n",
    "        #to get prcentage of missing values in column\n",
    "        b_ary=[]\n",
    "        i=0\n",
    "        for key in y:\n",
    "            y[key] *=  ff\n",
    "        b_ary=list(y.values())\n",
    "        #print(b_ary)\n",
    "        #to get tabular form\n",
    "        print('name'+' '*l +'percentage')\n",
    "\n",
    "\n",
    "        \n",
    "        for each in emt_ary:\n",
    "            value_pos=l-len(each)+5\n",
    "            print(each+' '*value_pos+str(b_ary[i]))\n",
    "            i=i+1\n",
    "    else:\n",
    "        print(\"no empty cell\")\n",
    "    \n",
    "miss(data)\n",
    "\n",
    "\n",
    "\n",
    "\n",
    "\n",
    "\n",
    "\n"
   ]
  },
  {
   "cell_type": "code",
   "execution_count": null,
   "metadata": {
    "collapsed": true
   },
   "outputs": [],
   "source": []
  },
  {
   "cell_type": "code",
   "execution_count": null,
   "metadata": {
    "collapsed": true
   },
   "outputs": [],
   "source": []
  }
 ],
 "metadata": {
  "kernelspec": {
   "display_name": "Python 3",
   "language": "python",
   "name": "python3"
  },
  "language_info": {
   "codemirror_mode": {
    "name": "ipython",
    "version": 3
   },
   "file_extension": ".py",
   "mimetype": "text/x-python",
   "name": "python",
   "nbconvert_exporter": "python",
   "pygments_lexer": "ipython3",
   "version": "3.6.0"
  }
 },
 "nbformat": 4,
 "nbformat_minor": 2
}
